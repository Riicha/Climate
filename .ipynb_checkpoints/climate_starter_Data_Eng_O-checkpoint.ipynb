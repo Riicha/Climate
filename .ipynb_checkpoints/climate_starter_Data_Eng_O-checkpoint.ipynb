{
 "cells": [
  {
   "cell_type": "markdown",
   "metadata": {},
   "source": [
    "# * Data Exploration & Analysis was done:-\n",
    "# * Rawdata Files:- measurement.CSV & station.CSV files for DataFrames.\n",
    "# * Python & Pandas used to inspect and data cleaning of the two .CSV files.\n",
    "# * Inspected the data for NaNs and missing values,cleaned / processed CSV  files & saved with the prefix 'pro'."
   ]
  },
  {
   "cell_type": "code",
   "execution_count": 160,
   "metadata": {},
   "outputs": [],
   "source": [
    "# #\n",
    "# %matplotlib notebook\n",
    "# from matplotlib import style\n",
    "# style.use('fivethirtyeight')\n",
    "# import matplotlib.pyplot as plt"
   ]
  },
  {
   "cell_type": "code",
   "execution_count": 161,
   "metadata": {},
   "outputs": [],
   "source": [
    "# Import the Dependencies\n",
    "import numpy as np\n",
    "import pandas as pd\n",
    "import os\n",
    "\n",
    "\n",
    "# # Dependencies for python# Depen \n",
    "# import matplotlib.pyplot as plt\n",
    "# import seaborn"
   ]
  },
  {
   "cell_type": "code",
   "execution_count": 162,
   "metadata": {},
   "outputs": [],
   "source": [
    "\n",
    "# import datetime as dt"
   ]
  },
  {
   "cell_type": "code",
   "execution_count": 163,
   "metadata": {},
   "outputs": [],
   "source": [
    "# # Dependencies for SQLAlchemy\n",
    "# import sqlalchemy\n",
    "# from sqlalchemy.ext.automap import automap_base\n",
    "# from sqlalchemy.orm import Session\n",
    "# from sqlalchemy import create_engine\n",
    "# from sqlalchemy import func"
   ]
  },
  {
   "cell_type": "markdown",
   "metadata": {},
   "source": [
    "# Data Engineering / Cleaning of hawaii_measurements.csv"
   ]
  },
  {
   "cell_type": "code",
   "execution_count": 164,
   "metadata": {},
   "outputs": [
    {
     "data": {
      "text/html": [
       "<div>\n",
       "<style scoped>\n",
       "    .dataframe tbody tr th:only-of-type {\n",
       "        vertical-align: middle;\n",
       "    }\n",
       "\n",
       "    .dataframe tbody tr th {\n",
       "        vertical-align: top;\n",
       "    }\n",
       "\n",
       "    .dataframe thead th {\n",
       "        text-align: right;\n",
       "    }\n",
       "</style>\n",
       "<table border=\"1\" class=\"dataframe\">\n",
       "  <thead>\n",
       "    <tr style=\"text-align: right;\">\n",
       "      <th></th>\n",
       "      <th>station</th>\n",
       "      <th>date</th>\n",
       "      <th>prcp</th>\n",
       "      <th>tobs</th>\n",
       "    </tr>\n",
       "  </thead>\n",
       "  <tbody>\n",
       "    <tr>\n",
       "      <th>0</th>\n",
       "      <td>USC00519397</td>\n",
       "      <td>2010-01-01</td>\n",
       "      <td>0.08</td>\n",
       "      <td>65</td>\n",
       "    </tr>\n",
       "    <tr>\n",
       "      <th>1</th>\n",
       "      <td>USC00519397</td>\n",
       "      <td>2010-01-02</td>\n",
       "      <td>0.00</td>\n",
       "      <td>63</td>\n",
       "    </tr>\n",
       "    <tr>\n",
       "      <th>2</th>\n",
       "      <td>USC00519397</td>\n",
       "      <td>2010-01-03</td>\n",
       "      <td>0.00</td>\n",
       "      <td>74</td>\n",
       "    </tr>\n",
       "    <tr>\n",
       "      <th>3</th>\n",
       "      <td>USC00519397</td>\n",
       "      <td>2010-01-04</td>\n",
       "      <td>0.00</td>\n",
       "      <td>76</td>\n",
       "    </tr>\n",
       "    <tr>\n",
       "      <th>4</th>\n",
       "      <td>USC00519397</td>\n",
       "      <td>2010-01-06</td>\n",
       "      <td>NaN</td>\n",
       "      <td>73</td>\n",
       "    </tr>\n",
       "  </tbody>\n",
       "</table>\n",
       "</div>"
      ],
      "text/plain": [
       "       station        date  prcp  tobs\n",
       "0  USC00519397  2010-01-01  0.08    65\n",
       "1  USC00519397  2010-01-02  0.00    63\n",
       "2  USC00519397  2010-01-03  0.00    74\n",
       "3  USC00519397  2010-01-04  0.00    76\n",
       "4  USC00519397  2010-01-06   NaN    73"
      ]
     },
     "execution_count": 164,
     "metadata": {},
     "output_type": "execute_result"
    }
   ],
   "source": [
    "#R\n",
    "# Read file hawaii_measurements.csv\n",
    "measurements = \"Resources/hawaii_measurements.csv\"\n",
    "measurements_df = pd.read_csv(measurements)\n",
    "measurements_df.head()"
   ]
  },
  {
   "cell_type": "code",
   "execution_count": 165,
   "metadata": {},
   "outputs": [
    {
     "data": {
      "text/plain": [
       "array([8.000e-02, 0.000e+00,       nan, 6.000e-02, 1.000e-02, 4.000e-02,\n",
       "       1.200e-01, 3.000e-02, 2.000e-02, 4.300e-01, 1.700e-01, 1.500e-01,\n",
       "       2.700e-01, 2.000e-01, 5.000e-02, 9.000e-02, 7.000e-02, 5.700e-01,\n",
       "       3.100e-01, 2.300e-01, 1.580e+00, 7.700e-01, 1.400e+00, 1.300e-01,\n",
       "       5.500e-01, 2.200e-01, 1.290e+00, 1.300e+00, 2.900e-01, 1.720e+00,\n",
       "       8.200e-01, 1.000e-01, 8.800e-01, 4.000e-01, 1.110e+00, 3.600e-01,\n",
       "       2.100e+00, 1.100e-01, 5.600e-01, 8.900e-01, 1.400e-01, 1.600e+00,\n",
       "       5.800e-01, 2.800e-01, 7.000e-01, 1.800e-01, 1.030e+00, 3.700e-01,\n",
       "       1.080e+00, 4.000e+00, 2.420e+00, 1.900e-01, 1.000e+00, 1.130e+00,\n",
       "       8.000e-01, 3.200e-01, 3.000e-01, 2.500e-01, 3.500e-01, 7.400e-01,\n",
       "       1.980e+00, 2.010e+00, 1.100e+00, 1.600e-01, 7.600e-01, 3.800e-01,\n",
       "       5.000e-01, 4.800e-01, 6.400e-01, 4.500e-01, 6.600e-01, 1.090e+00,\n",
       "       7.900e-01, 3.900e-01, 2.400e-01, 1.220e+00, 6.200e-01, 9.300e-01,\n",
       "       8.600e-01, 4.600e-01, 6.500e-01, 2.600e-01, 4.100e-01, 4.200e-01,\n",
       "       5.200e-01, 1.570e+00, 8.500e-01, 3.300e-01, 7.500e-01, 2.100e-01,\n",
       "       5.400e-01, 1.250e+00, 4.200e+00, 1.320e+00, 5.100e-01, 2.620e+00,\n",
       "       1.190e+00, 7.300e-01, 4.700e-01, 1.700e+00, 8.700e-01, 3.400e-01,\n",
       "       4.400e-01, 4.900e-01, 1.950e+00, 3.180e+00, 4.940e+00, 2.950e+00,\n",
       "       9.900e-01, 6.300e-01, 5.210e+00, 1.060e+00, 1.540e+00, 4.880e+00,\n",
       "       3.300e+00, 1.050e+00, 1.160e+00, 1.330e+00, 6.800e-01, 1.760e+00,\n",
       "       9.200e-01, 4.430e+00, 4.020e+00, 6.100e-01, 1.560e+00, 4.470e+00,\n",
       "       1.550e+00, 5.710e+00, 2.330e+00, 2.410e+00, 5.900e-01, 4.600e+00,\n",
       "       1.270e+00, 7.100e-01, 2.600e+00, 8.300e-01, 1.690e+00, 9.400e-01,\n",
       "       9.500e-01, 1.900e+00, 3.030e+00, 1.310e+00, 1.590e+00, 8.100e-01,\n",
       "       5.980e+00, 1.370e+00, 1.710e+00, 2.060e+00, 1.840e+00, 1.350e+00,\n",
       "       1.240e+00, 7.200e-01, 1.460e+00, 6.000e-01, 2.700e+00, 1.210e+00,\n",
       "       5.300e-01, 1.610e+00, 9.100e-01, 6.900e-01, 1.780e+00, 1.530e+00,\n",
       "       7.650e+00, 2.350e+00, 2.150e+00, 9.000e-01, 1.070e+00, 2.900e+00,\n",
       "       2.200e+00, 1.450e+00, 1.010e+00, 1.620e+00, 2.430e+00, 2.550e+00,\n",
       "       9.600e-01, 3.910e+00, 3.330e+00, 1.750e+00, 1.140e+00, 3.600e+00,\n",
       "       1.880e+00, 1.520e+00, 2.770e+00, 1.120e+00, 1.153e+01, 3.480e+00,\n",
       "       1.510e+00, 1.440e+00, 3.700e+00, 3.850e+00, 1.800e+00, 1.920e+00,\n",
       "       2.280e+00, 2.390e+00, 1.910e+00, 1.170e+00, 2.800e+00, 1.500e+00,\n",
       "       1.480e+00, 1.650e+00, 7.800e-01, 2.400e+00, 2.120e+00, 8.400e-01,\n",
       "       1.430e+00, 2.500e+00, 1.150e+00, 6.300e+00, 1.420e+00, 1.260e+00,\n",
       "       2.750e+00, 1.340e+00, 2.020e+00, 2.860e+00, 4.950e+00, 3.620e+00,\n",
       "       1.820e+00, 2.710e+00, 6.380e+00, 5.320e+00, 1.020e+00, 2.480e+00,\n",
       "       2.050e+00, 1.960e+00, 1.670e+00, 4.760e+00, 2.250e+00, 1.810e+00,\n",
       "       5.540e+00, 2.610e+00, 1.380e+00, 1.230e+00, 9.700e-01, 1.940e+00,\n",
       "       3.430e+00, 2.290e+00, 2.240e+00, 2.300e+00, 1.180e+00, 3.010e+00,\n",
       "       5.040e+00, 6.700e-01, 2.360e+00, 6.250e+00, 2.170e+00, 3.990e+00,\n",
       "       3.060e+00, 3.140e+00, 2.490e+00, 8.810e+00, 9.800e-01, 1.470e+00,\n",
       "       2.690e+00, 1.680e+00, 4.680e+00, 6.240e+00, 2.590e+00, 3.470e+00,\n",
       "       2.840e+00, 1.390e+00, 3.880e+00, 1.870e+00, 4.070e+00, 3.790e+00,\n",
       "       1.770e+00, 2.210e+00, 1.970e+00, 3.860e+00, 7.970e+00, 2.450e+00,\n",
       "       2.960e+00, 3.100e+00, 1.040e+00, 9.640e+00, 3.530e+00, 2.320e+00,\n",
       "       1.790e+00, 1.730e+00, 2.980e+00, 2.030e+00, 1.740e+00, 3.050e+00,\n",
       "       3.000e+00, 3.440e+00, 2.830e+00, 1.410e+00, 2.560e+00, 1.830e+00,\n",
       "       2.140e+00, 1.890e+00, 4.010e+00, 2.640e+00, 4.560e+00, 1.860e+00,\n",
       "       2.270e+00, 1.490e+00, 3.350e+00, 2.070e+00, 2.260e+00, 2.000e+00,\n",
       "       6.420e+00, 5.370e+00, 2.630e+00, 2.090e+00, 3.230e+00, 3.270e+00,\n",
       "       2.870e+00, 2.570e+00, 2.130e+00, 5.960e+00, 2.920e+00, 2.810e+00,\n",
       "       1.850e+00, 4.320e+00, 8.060e+00, 2.970e+00, 3.400e+00, 2.440e+00,\n",
       "       2.790e+00, 4.300e+00, 1.200e+00, 2.310e+00, 4.030e+00, 3.260e+00,\n",
       "       2.470e+00, 1.360e+00, 2.230e+00, 1.280e+00, 4.810e+00, 2.670e+00,\n",
       "       6.830e+00, 4.180e+00, 3.380e+00, 1.660e+00, 3.680e+00, 5.090e+00,\n",
       "       5.350e+00, 2.460e+00, 6.700e+00, 3.460e+00, 2.110e+00, 2.370e+00,\n",
       "       2.820e+00])"
      ]
     },
     "execution_count": 165,
     "metadata": {},
     "output_type": "execute_result"
    }
   ],
   "source": [
    "# In the prcp columns checking for the unique values to check for NAN we observe that there are Nan values.\n",
    "measurements_df[\"prcp\"].unique() "
   ]
  },
  {
   "cell_type": "code",
   "execution_count": 166,
   "metadata": {},
   "outputs": [
    {
     "data": {
      "text/plain": [
       "array(['2010-01-01', '2010-01-02', '2010-01-03', ..., '2017-08-16',\n",
       "       '2017-08-17', '2014-09-06'], dtype=object)"
      ]
     },
     "execution_count": 166,
     "metadata": {},
     "output_type": "execute_result"
    }
   ],
   "source": [
    "# Checking for the unique 'date' values. \n",
    "measurements_df[\"date\"].unique()"
   ]
  },
  {
   "cell_type": "code",
   "execution_count": 167,
   "metadata": {},
   "outputs": [
    {
     "data": {
      "text/plain": [
       "array(['USC00519397', 'USC00513117', 'USC00514830', 'USC00517948',\n",
       "       'USC00518838', 'USC00519523', 'USC00519281', 'USC00511918',\n",
       "       'USC00516128'], dtype=object)"
      ]
     },
     "execution_count": 167,
     "metadata": {},
     "output_type": "execute_result"
    }
   ],
   "source": [
    "# Checking for the unique values of 'station' to find NaN values.\n",
    "measurements_df[\"station\"].unique()"
   ]
  },
  {
   "cell_type": "code",
   "execution_count": 168,
   "metadata": {},
   "outputs": [
    {
     "data": {
      "text/plain": [
       "array([65, 63, 74, 76, 73, 70, 64, 68, 61, 66, 72, 69, 67, 71, 75, 77, 80,\n",
       "       78, 79, 82, 87, 62, 58, 60, 85, 84, 83, 81, 59, 56, 57, 54, 86, 53,\n",
       "       55], dtype=int64)"
      ]
     },
     "execution_count": 168,
     "metadata": {},
     "output_type": "execute_result"
    }
   ],
   "source": [
    "# Checking for the unique values of 'tobs' to find NaN values.\n",
    "measurements_df[\"tobs\"].unique()"
   ]
  },
  {
   "cell_type": "code",
   "execution_count": 169,
   "metadata": {},
   "outputs": [
    {
     "name": "stdout",
     "output_type": "stream",
     "text": [
      "Total NaNs: 1447\n"
     ]
    }
   ],
   "source": [
    "#R\n",
    "# Use isnull() to check for the number of NaNs or the Missing Values.\n",
    "missing_Value_msmt = measurements_df.isnull().values.sum()\n",
    "print(f\"Total NaNs: {missing_Value_msmt}\")"
   ]
  },
  {
   "cell_type": "code",
   "execution_count": 170,
   "metadata": {},
   "outputs": [
    {
     "data": {
      "text/plain": [
       "station    19550\n",
       "date       19550\n",
       "prcp       18103\n",
       "tobs       19550\n",
       "dtype: int64"
      ]
     },
     "execution_count": 170,
     "metadata": {},
     "output_type": "execute_result"
    }
   ],
   "source": [
    "# R\n",
    "# Identify incomplete rows or the ones with less data by counting the rows in each column of the Dataframe.\n",
    "measurements_df.count()"
   ]
  },
  {
   "cell_type": "code",
   "execution_count": 171,
   "metadata": {},
   "outputs": [
    {
     "name": "stdout",
     "output_type": "stream",
     "text": [
      "Total NaNs Remaining: 0\n"
     ]
    }
   ],
   "source": [
    "# R\n",
    "# Replace the missing values with 0 using the fillna() function.\n",
    "measurements_df = measurements_df.fillna(0)\n",
    "print(f\"Total NaNs Remaining: {measurements_df.isnull().values.sum()}\")"
   ]
  },
  {
   "cell_type": "code",
   "execution_count": 172,
   "metadata": {},
   "outputs": [
    {
     "data": {
      "text/plain": [
       "station    19550\n",
       "date       19550\n",
       "prcp       19550\n",
       "tobs       19550\n",
       "dtype: int64"
      ]
     },
     "execution_count": 172,
     "metadata": {},
     "output_type": "execute_result"
    }
   ],
   "source": [
    "# Observe the count after the replacement of NaNs is done by 0\n",
    "measurements_df.count()"
   ]
  },
  {
   "cell_type": "code",
   "execution_count": 173,
   "metadata": {},
   "outputs": [
    {
     "data": {
      "text/plain": [
       "station     object\n",
       "date        object\n",
       "prcp       float64\n",
       "tobs         int64\n",
       "dtype: object"
      ]
     },
     "execution_count": 173,
     "metadata": {},
     "output_type": "execute_result"
    }
   ],
   "source": [
    "# Find the data type of the 'Measurements' dataframe\n",
    "measurements_df.dtypes"
   ]
  },
  {
   "cell_type": "code",
   "execution_count": 174,
   "metadata": {},
   "outputs": [
    {
     "data": {
      "text/html": [
       "<div>\n",
       "<style scoped>\n",
       "    .dataframe tbody tr th:only-of-type {\n",
       "        vertical-align: middle;\n",
       "    }\n",
       "\n",
       "    .dataframe tbody tr th {\n",
       "        vertical-align: top;\n",
       "    }\n",
       "\n",
       "    .dataframe thead th {\n",
       "        text-align: right;\n",
       "    }\n",
       "</style>\n",
       "<table border=\"1\" class=\"dataframe\">\n",
       "  <thead>\n",
       "    <tr style=\"text-align: right;\">\n",
       "      <th></th>\n",
       "      <th>station</th>\n",
       "      <th>date</th>\n",
       "      <th>prcp</th>\n",
       "      <th>tobs</th>\n",
       "    </tr>\n",
       "  </thead>\n",
       "  <tbody>\n",
       "    <tr>\n",
       "      <th>0</th>\n",
       "      <td>USC00519397</td>\n",
       "      <td>2010-01-01</td>\n",
       "      <td>0.08</td>\n",
       "      <td>65</td>\n",
       "    </tr>\n",
       "    <tr>\n",
       "      <th>1</th>\n",
       "      <td>USC00519397</td>\n",
       "      <td>2010-01-02</td>\n",
       "      <td>0.00</td>\n",
       "      <td>63</td>\n",
       "    </tr>\n",
       "    <tr>\n",
       "      <th>2</th>\n",
       "      <td>USC00519397</td>\n",
       "      <td>2010-01-03</td>\n",
       "      <td>0.00</td>\n",
       "      <td>74</td>\n",
       "    </tr>\n",
       "    <tr>\n",
       "      <th>3</th>\n",
       "      <td>USC00519397</td>\n",
       "      <td>2010-01-04</td>\n",
       "      <td>0.00</td>\n",
       "      <td>76</td>\n",
       "    </tr>\n",
       "    <tr>\n",
       "      <th>4</th>\n",
       "      <td>USC00519397</td>\n",
       "      <td>2010-01-06</td>\n",
       "      <td>0.00</td>\n",
       "      <td>73</td>\n",
       "    </tr>\n",
       "  </tbody>\n",
       "</table>\n",
       "</div>"
      ],
      "text/plain": [
       "       station        date  prcp  tobs\n",
       "0  USC00519397  2010-01-01  0.08    65\n",
       "1  USC00519397  2010-01-02  0.00    63\n",
       "2  USC00519397  2010-01-03  0.00    74\n",
       "3  USC00519397  2010-01-04  0.00    76\n",
       "4  USC00519397  2010-01-06  0.00    73"
      ]
     },
     "execution_count": 174,
     "metadata": {},
     "output_type": "execute_result"
    }
   ],
   "source": [
    "# Preview the cleaned data frame\n",
    "measurements_df.head()"
   ]
  },
  {
   "cell_type": "code",
   "execution_count": 175,
   "metadata": {},
   "outputs": [],
   "source": [
    "# Export the cleaned dataframe to csv\n",
    "measurements_df.to_csv(\"ProcessedData/pro_hawaii_measurements.csv\", index=False)"
   ]
  },
  {
   "cell_type": "markdown",
   "metadata": {},
   "source": [
    "# Data engineering / cleaning on hawaii_stations.csv "
   ]
  },
  {
   "cell_type": "code",
   "execution_count": 176,
   "metadata": {},
   "outputs": [
    {
     "data": {
      "text/html": [
       "<div>\n",
       "<style scoped>\n",
       "    .dataframe tbody tr th:only-of-type {\n",
       "        vertical-align: middle;\n",
       "    }\n",
       "\n",
       "    .dataframe tbody tr th {\n",
       "        vertical-align: top;\n",
       "    }\n",
       "\n",
       "    .dataframe thead th {\n",
       "        text-align: right;\n",
       "    }\n",
       "</style>\n",
       "<table border=\"1\" class=\"dataframe\">\n",
       "  <thead>\n",
       "    <tr style=\"text-align: right;\">\n",
       "      <th></th>\n",
       "      <th>station</th>\n",
       "      <th>name</th>\n",
       "      <th>latitude</th>\n",
       "      <th>longitude</th>\n",
       "      <th>elevation</th>\n",
       "    </tr>\n",
       "  </thead>\n",
       "  <tbody>\n",
       "    <tr>\n",
       "      <th>0</th>\n",
       "      <td>USC00519397</td>\n",
       "      <td>WAIKIKI 717.2, HI US</td>\n",
       "      <td>21.2716</td>\n",
       "      <td>-157.8168</td>\n",
       "      <td>3.0</td>\n",
       "    </tr>\n",
       "    <tr>\n",
       "      <th>1</th>\n",
       "      <td>USC00513117</td>\n",
       "      <td>KANEOHE 838.1, HI US</td>\n",
       "      <td>21.4234</td>\n",
       "      <td>-157.8015</td>\n",
       "      <td>14.6</td>\n",
       "    </tr>\n",
       "    <tr>\n",
       "      <th>2</th>\n",
       "      <td>USC00514830</td>\n",
       "      <td>KUALOA RANCH HEADQUARTERS 886.9, HI US</td>\n",
       "      <td>21.5213</td>\n",
       "      <td>-157.8374</td>\n",
       "      <td>7.0</td>\n",
       "    </tr>\n",
       "    <tr>\n",
       "      <th>3</th>\n",
       "      <td>USC00517948</td>\n",
       "      <td>PEARL CITY, HI US</td>\n",
       "      <td>21.3934</td>\n",
       "      <td>-157.9751</td>\n",
       "      <td>11.9</td>\n",
       "    </tr>\n",
       "    <tr>\n",
       "      <th>4</th>\n",
       "      <td>USC00518838</td>\n",
       "      <td>UPPER WAHIAWA 874.3, HI US</td>\n",
       "      <td>21.4992</td>\n",
       "      <td>-158.0111</td>\n",
       "      <td>306.6</td>\n",
       "    </tr>\n",
       "  </tbody>\n",
       "</table>\n",
       "</div>"
      ],
      "text/plain": [
       "       station                                    name  latitude  longitude  \\\n",
       "0  USC00519397                    WAIKIKI 717.2, HI US   21.2716  -157.8168   \n",
       "1  USC00513117                    KANEOHE 838.1, HI US   21.4234  -157.8015   \n",
       "2  USC00514830  KUALOA RANCH HEADQUARTERS 886.9, HI US   21.5213  -157.8374   \n",
       "3  USC00517948                       PEARL CITY, HI US   21.3934  -157.9751   \n",
       "4  USC00518838              UPPER WAHIAWA 874.3, HI US   21.4992  -158.0111   \n",
       "\n",
       "   elevation  \n",
       "0        3.0  \n",
       "1       14.6  \n",
       "2        7.0  \n",
       "3       11.9  \n",
       "4      306.6  "
      ]
     },
     "execution_count": 176,
     "metadata": {},
     "output_type": "execute_result"
    }
   ],
   "source": [
    "# Read file hawaii_stations.csv# Read  \n",
    "stations = \"Resources/hawaii_stations.csv\"\n",
    "stations_df =  pd.read_csv(stations)\n",
    "stations_df.head()"
   ]
  },
  {
   "cell_type": "code",
   "execution_count": 177,
   "metadata": {},
   "outputs": [
    {
     "name": "stdout",
     "output_type": "stream",
     "text": [
      "Total NaNs: 0\n"
     ]
    }
   ],
   "source": [
    "# Use isnull() function to check for NaNs or the Missing Values.\n",
    "missing_value_stn = stations_df.isnull().values.sum()\n",
    "print(f\"Total NaNs: {missing_value_stn}\")"
   ]
  },
  {
   "cell_type": "code",
   "execution_count": 178,
   "metadata": {},
   "outputs": [
    {
     "data": {
      "text/plain": [
       "station       object\n",
       "name          object\n",
       "latitude     float64\n",
       "longitude    float64\n",
       "elevation    float64\n",
       "dtype: object"
      ]
     },
     "execution_count": 178,
     "metadata": {},
     "output_type": "execute_result"
    }
   ],
   "source": [
    "# Find the data type of the 'stations' dataframe\n",
    "stations_df.dtypes"
   ]
  },
  {
   "cell_type": "code",
   "execution_count": 179,
   "metadata": {},
   "outputs": [
    {
     "data": {
      "text/html": [
       "<div>\n",
       "<style scoped>\n",
       "    .dataframe tbody tr th:only-of-type {\n",
       "        vertical-align: middle;\n",
       "    }\n",
       "\n",
       "    .dataframe tbody tr th {\n",
       "        vertical-align: top;\n",
       "    }\n",
       "\n",
       "    .dataframe thead th {\n",
       "        text-align: right;\n",
       "    }\n",
       "</style>\n",
       "<table border=\"1\" class=\"dataframe\">\n",
       "  <thead>\n",
       "    <tr style=\"text-align: right;\">\n",
       "      <th></th>\n",
       "      <th>station</th>\n",
       "      <th>name</th>\n",
       "      <th>latitude</th>\n",
       "      <th>longitude</th>\n",
       "      <th>elevation</th>\n",
       "    </tr>\n",
       "  </thead>\n",
       "  <tbody>\n",
       "    <tr>\n",
       "      <th>0</th>\n",
       "      <td>USC00519397</td>\n",
       "      <td>WAIKIKI 717.2, HI US</td>\n",
       "      <td>21.2716</td>\n",
       "      <td>-157.8168</td>\n",
       "      <td>3.0</td>\n",
       "    </tr>\n",
       "    <tr>\n",
       "      <th>1</th>\n",
       "      <td>USC00513117</td>\n",
       "      <td>KANEOHE 838.1, HI US</td>\n",
       "      <td>21.4234</td>\n",
       "      <td>-157.8015</td>\n",
       "      <td>14.6</td>\n",
       "    </tr>\n",
       "    <tr>\n",
       "      <th>2</th>\n",
       "      <td>USC00514830</td>\n",
       "      <td>KUALOA RANCH HEADQUARTERS 886.9, HI US</td>\n",
       "      <td>21.5213</td>\n",
       "      <td>-157.8374</td>\n",
       "      <td>7.0</td>\n",
       "    </tr>\n",
       "    <tr>\n",
       "      <th>3</th>\n",
       "      <td>USC00517948</td>\n",
       "      <td>PEARL CITY, HI US</td>\n",
       "      <td>21.3934</td>\n",
       "      <td>-157.9751</td>\n",
       "      <td>11.9</td>\n",
       "    </tr>\n",
       "    <tr>\n",
       "      <th>4</th>\n",
       "      <td>USC00518838</td>\n",
       "      <td>UPPER WAHIAWA 874.3, HI US</td>\n",
       "      <td>21.4992</td>\n",
       "      <td>-158.0111</td>\n",
       "      <td>306.6</td>\n",
       "    </tr>\n",
       "  </tbody>\n",
       "</table>\n",
       "</div>"
      ],
      "text/plain": [
       "       station                                    name  latitude  longitude  \\\n",
       "0  USC00519397                    WAIKIKI 717.2, HI US   21.2716  -157.8168   \n",
       "1  USC00513117                    KANEOHE 838.1, HI US   21.4234  -157.8015   \n",
       "2  USC00514830  KUALOA RANCH HEADQUARTERS 886.9, HI US   21.5213  -157.8374   \n",
       "3  USC00517948                       PEARL CITY, HI US   21.3934  -157.9751   \n",
       "4  USC00518838              UPPER WAHIAWA 874.3, HI US   21.4992  -158.0111   \n",
       "\n",
       "   elevation  \n",
       "0        3.0  \n",
       "1       14.6  \n",
       "2        7.0  \n",
       "3       11.9  \n",
       "4      306.6  "
      ]
     },
     "execution_count": 179,
     "metadata": {},
     "output_type": "execute_result"
    }
   ],
   "source": [
    "# Preview the stations data frame\n",
    "stations_df.head()"
   ]
  },
  {
   "cell_type": "code",
   "execution_count": 180,
   "metadata": {},
   "outputs": [],
   "source": [
    "# Export the cleaned dataframe to csv\n",
    "stations_df.to_csv(\"ProcessedData/pro_hawaii_stations.csv\", index=False)"
   ]
  },
  {
   "cell_type": "code",
   "execution_count": null,
   "metadata": {},
   "outputs": [],
   "source": []
  }
 ],
 "metadata": {
  "kernel_info": {
   "name": "python3"
  },
  "kernelspec": {
   "display_name": "Python 3",
   "language": "python",
   "name": "python3"
  },
  "language_info": {
   "codemirror_mode": {
    "name": "ipython",
    "version": 3
   },
   "file_extension": ".py",
   "mimetype": "text/x-python",
   "name": "python",
   "nbconvert_exporter": "python",
   "pygments_lexer": "ipython3",
   "version": "3.6.5"
  },
  "nteract": {
   "version": "0.9.1"
  },
  "varInspector": {
   "cols": {
    "lenName": 16,
    "lenType": 16,
    "lenVar": 40
   },
   "kernels_config": {
    "python": {
     "delete_cmd_postfix": "",
     "delete_cmd_prefix": "del ",
     "library": "var_list.py",
     "varRefreshCmd": "print(var_dic_list())"
    },
    "r": {
     "delete_cmd_postfix": ") ",
     "delete_cmd_prefix": "rm(",
     "library": "var_list.r",
     "varRefreshCmd": "cat(var_dic_list()) "
    }
   },
   "types_to_exclude": [
    "module",
    "function",
    "builtin_function_or_method",
    "instance",
    "_Feature"
   ],
   "window_display": false
  }
 },
 "nbformat": 4,
 "nbformat_minor": 2
}
